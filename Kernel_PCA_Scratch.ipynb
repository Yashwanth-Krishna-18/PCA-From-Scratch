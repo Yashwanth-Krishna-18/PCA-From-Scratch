{
  "nbformat": 4,
  "nbformat_minor": 0,
  "metadata": {
    "colab": {
      "provenance": [],
      "authorship_tag": "ABX9TyM+MvpE+Sewb1aBPWqlgZWh",
      "include_colab_link": true
    },
    "kernelspec": {
      "name": "python3",
      "display_name": "Python 3"
    },
    "language_info": {
      "name": "python"
    }
  },
  "cells": [
    {
      "cell_type": "markdown",
      "metadata": {
        "id": "view-in-github",
        "colab_type": "text"
      },
      "source": [
        "<a href=\"https://colab.research.google.com/github/Yashwanth-Krishna-18/PCA-From-Scratch/blob/main/Kernel_PCA_Scratch.ipynb\" target=\"_parent\"><img src=\"https://colab.research.google.com/assets/colab-badge.svg\" alt=\"Open In Colab\"/></a>"
      ]
    },
    {
      "cell_type": "markdown",
      "source": [
        "Kernel PCA Scratch code Implementation"
      ],
      "metadata": {
        "id": "dbqxvYPHl-Gm"
      }
    },
    {
      "cell_type": "code",
      "source": [
        "import numpy as np\n",
        "import pandas as pd\n",
        "import matplotlib.pyplot as plt\n",
        "import math\n",
        "import random"
      ],
      "metadata": {
        "id": "Oio9rezAmFd5"
      },
      "execution_count": null,
      "outputs": []
    },
    {
      "cell_type": "markdown",
      "source": [
        "Lets take a DataSet\n",
        "\n",
        "       d: no of features\n",
        "       n:no of data points\n"
      ],
      "metadata": {
        "id": "n8Swb2BAmed2"
      }
    },
    {
      "cell_type": "code",
      "source": [
        "X=np.array([(1,1),(2,4),(-1,1),(-2,4)]).T\n",
        "print(X)"
      ],
      "metadata": {
        "colab": {
          "base_uri": "https://localhost:8080/"
        },
        "id": "xF7vrtV-ms90",
        "outputId": "43e66a44-6348-42be-9461-680174fcbd1e"
      },
      "execution_count": null,
      "outputs": [
        {
          "output_type": "stream",
          "name": "stdout",
          "text": [
            "[[ 1  2 -1 -2]\n",
            " [ 1  4  1  4]]\n"
          ]
        }
      ]
    },
    {
      "cell_type": "markdown",
      "source": [
        "Graphical Representation of data Points in data Space for understanding Structural Relation of The Data\n",
        "For This data d=4,n=2"
      ],
      "metadata": {
        "id": "5krqLz1Angh_"
      }
    },
    {
      "cell_type": "code",
      "source": [
        "plt.scatter(X[0,:],X[1,:])\n",
        "plt.axhline(y=0,color=\"red\",label=\"X-axis\" )\n",
        "plt.axvline(x=0,color=\"green\",label='Y-axis')\n",
        "plt.title(\"Data points\")\n",
        "plt.grid()\n",
        "plt.legend()\n",
        "plt.show()"
      ],
      "metadata": {
        "colab": {
          "base_uri": "https://localhost:8080/",
          "height": 452
        },
        "id": "c0V4HukMnsCJ",
        "outputId": "ac11777a-affd-4982-d452-852c845e28a8"
      },
      "execution_count": 12,
      "outputs": [
        {
          "output_type": "display_data",
          "data": {
            "text/plain": [
              "<Figure size 640x480 with 1 Axes>"
            ],
            "image/png": "[encoded data removed]"
          },
          "metadata": {}
        }
      ]
    },
    {
      "cell_type": "markdown",
      "source": [
        "Calculation of Kernel Function from data Set We opt Polynomial Kernel of Degree 2\n",
        "K(X1,X2)=(X1.X2+1)**2 It is Symmetric positive Semidefinite"
      ],
      "metadata": {
        "id": "TuA8Qk3rqB_U"
      }
    },
    {
      "cell_type": "code",
      "source": [
        "def pol_kernel(A,B,k):\n",
        "  ans=(A.T@B+1)**2\n",
        "  return ans\n",
        "ker=pol_kernel(X,X,2)\n",
        "print(ker)"
      ],
      "metadata": {
        "colab": {
          "base_uri": "https://localhost:8080/"
        },
        "id": "8qIiL6__qhoy",
        "outputId": "b444f316-3f2c-4ee2-e09c-2368c6c00bef"
      },
      "execution_count": 15,
      "outputs": [
        {
          "output_type": "stream",
          "name": "stdout",
          "text": [
            "[[  9  49   1   9]\n",
            " [ 49 441   9 169]\n",
            " [  1   9   9  49]\n",
            " [  9 169  49 441]]\n"
          ]
        }
      ]
    },
    {
      "cell_type": "markdown",
      "source": [
        "Centre The dataSet The Kernel opted for The Dataset the Formula to Centre The Kernel KC=K-Ik-KI+IKI\n",
        "where I is a Matrix filled by 1/n with shape (n,n)"
      ],
      "metadata": {
        "id": "s1vam10Mr49x"
      }
    },
    {
      "cell_type": "code",
      "source": [
        "def centre_dataset(k):\n",
        "  n=k.shape[0]\n",
        "  arrs=np.ones((n,n),dtype=int)\n",
        "  I=arrs/n\n",
        "  KC=k-I@k-k@I+I@k@I\n",
        "  return KC\n",
        "kc=centre_dataset(ker)\n",
        "print(kc)"
      ],
      "metadata": {
        "colab": {
          "base_uri": "https://localhost:8080/"
        },
        "id": "MJduqHDhuWU_",
        "outputId": "669a63a3-ed82-438c-88ed-8c1aef12010b"
      },
      "execution_count": 17,
      "outputs": [
        {
          "output_type": "stream",
          "name": "stdout",
          "text": [
            "[[ 67. -43.  59. -83.]\n",
            " [-43. 199. -83. -73.]\n",
            " [ 59. -83.  67. -43.]\n",
            " [-83. -73. -43. 199.]]\n"
          ]
        }
      ]
    },
    {
      "cell_type": "markdown",
      "source": [
        "Computation of Eigen Values and Eigen Vectors where Eigen Vectors are {beta1 ,beta2,...betan} and Eigen Values are {nlamba1,nlambda2,.....nlamban}"
      ],
      "metadata": {
        "id": "tI1ihnOMwEYb"
      }
    },
    {
      "cell_type": "code",
      "source": [
        "eigen_values,eigen_vectors=np.linalg.eig(kc)\n",
        "idx=eigen_values.argsort()[::-1]\n",
        "eigen_values=eigen_values[idx]\n",
        "eigen_vectors=eigen_vectors[:,idx]\n",
        "print(eigen_values)\n",
        "print(eigen_vectors)\n",
        "\n"
      ],
      "metadata": {
        "colab": {
          "base_uri": "https://localhost:8080/"
        },
        "id": "kkalTvGFwUuB",
        "outputId": "7e20352a-6fde-48f4-af68-55d431eb30ab"
      },
      "execution_count": 31,
      "outputs": [
        {
          "output_type": "stream",
          "name": "stdout",
          "text": [
            "[ 2.77927517e+02  2.52000000e+02  2.07248280e+00 -3.22463841e-15]\n",
            "[[-0.10365278 -0.5         0.69946844  0.5       ]\n",
            " [-0.69946844  0.5        -0.10365278  0.5       ]\n",
            " [ 0.10365278 -0.5        -0.69946844  0.5       ]\n",
            " [ 0.69946844  0.5         0.10365278  0.5       ]]\n"
          ]
        }
      ]
    },
    {
      "cell_type": "markdown",
      "source": [
        "Calculating The alpha That dataset Posses"
      ],
      "metadata": {
        "id": "dutEy04g4aze"
      }
    },
    {
      "cell_type": "code",
      "source": [
        "alpha=eigen_vectors/np.sqrt(eigen_values)\n",
        "actual_projection=kc@alpha\n",
        "print(actual_projection)"
      ],
      "metadata": {
        "colab": {
          "base_uri": "https://localhost:8080/"
        },
        "id": "QE95H0Wh5C3c",
        "outputId": "f814d374-d100-4e2b-bdf6-ba1182a18a36"
      },
      "execution_count": 40,
      "outputs": [
        {
          "output_type": "stream",
          "name": "stdout",
          "text": [
            "[[ -1.72801191  -7.93725393   1.00696319          nan]\n",
            " [-11.66094908   7.93725393  -0.14921979          nan]\n",
            " [  1.72801191  -7.93725393  -1.00696319          nan]\n",
            " [ 11.66094908   7.93725393   0.14921979          nan]]\n"
          ]
        },
        {
          "output_type": "stream",
          "name": "stderr",
          "text": [
            "<ipython-input-40-99c5acca894a>:1: RuntimeWarning: invalid value encountered in sqrt\n",
            "  alpha=eigen_vectors/np.sqrt(eigen_values)\n"
          ]
        }
      ]
    }
  ]
}